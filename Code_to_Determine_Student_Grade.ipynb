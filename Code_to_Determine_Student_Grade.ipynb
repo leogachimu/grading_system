{
 "cells": [
  {
   "attachments": {},
   "cell_type": "markdown",
   "metadata": {},
   "source": [
    "Code to accept user inputs for marks and determine the grade "
   ]
  },
  {
   "cell_type": "code",
   "execution_count": null,
   "metadata": {},
   "outputs": [],
   "source": [
    "#A function to find the average marks\n",
    "def find_average_marks(marks):\n",
    "    average_marks = sum(marks)/len(marks)\n",
    "    return average_marks\n",
    "\n",
    "#A function to calculate the grade using the average mark and return it\n",
    "def compute_grade(average_marks):\n",
    "    if average_marks >= 80:\n",
    "        Grade = \"A\"\n",
    "    elif average_marks >= 60:\n",
    "        Grade = \"B\"\n",
    "    elif average_marks >= 50:\n",
    "        Grade = \"C\"\n",
    "    else:\n",
    "        Grade = \"F\"\n",
    "    return Grade\n",
    "\n",
    "marks = [int(input(\"Enter marks for Maths: \")), int(input(\"Enter marks for Science: \")), \n",
    "                 int(input(\"Enter marks for English: \")), int(input(\"Enter marks for Social Studies: \")), \n",
    "                 int(input(\"Enter marks for Physical Education: \"))]\n",
    "average_marks = find_average_marks(marks)\n",
    "Grade = compute_grade(average_marks)\n",
    "\n",
    "print(\"Your average mark is:\", average_marks)\n",
    "print(\"Your overall grade is:\", Grade)"
   ]
  },
  {
   "cell_type": "code",
   "execution_count": null,
   "metadata": {},
   "outputs": [],
   "source": []
  }
 ],
 "metadata": {
  "language_info": {
   "name": "python"
  },
  "orig_nbformat": 4
 },
 "nbformat": 4,
 "nbformat_minor": 2
}
